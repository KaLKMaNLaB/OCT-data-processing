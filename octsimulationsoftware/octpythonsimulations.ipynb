{
 "cells": [
  {
   "cell_type": "markdown",
   "metadata": {},
   "source": [
    "# OCT simulations with Python\n",
    "\n",
    "This notebook describes basic OCT signal processing steps and visualizes them. The work is mostly based on the work presented in\n",
    "\n",
    "_J. Kalkman, Fourier-Domain Optical Coherence Tomography Signal Analysis and Numerical Modeling, International Journal of Optics 2017_"
   ]
  },
  {
   "cell_type": "code",
   "execution_count": 2,
   "metadata": {},
   "outputs": [],
   "source": [
    "# basic functions\n",
    "import numpy as np\n",
    "import matplotlib.pyplot as plt\n",
    "\n",
    "# for enabling interaction with the plots\n",
    "from ipywidgets import interact, interactive, fixed, interact_manual"
   ]
  },
  {
   "cell_type": "markdown",
   "metadata": {},
   "source": [
    "### Basic Fourier-domain OCT simulation\n",
    "\n",
    "We consider a Fourier domain OCT system. The signal is acquired in the $k$-domain and Fourier transformed to the $z$-domain."
   ]
  },
  {
   "cell_type": "code",
   "execution_count": 3,
   "metadata": {},
   "outputs": [],
   "source": [
    "# OCT parameters\n",
    "lambdac=950         # center wavelength [nm]\n",
    "dlambda=150         # bandwidth [nm]\n",
    "P0=1                # input power [mW]\n",
    "tau=1e-6            # integration time [s]\n",
    "N=1024              # number of pixels\n",
    "alpha=0.5           # intensity splitting ratio\n",
    "\n",
    "kc=2*np.pi/(lambdac*1e-9)\n",
    "dk=1e9*dlambda*2*np.pi/lambdac**2             # FWHM_k\n",
    "kmin=kc-2*dk                        # 2*dk is necessary to avoid problems in the z-domain\n",
    "kmax=kc+2*dk\n",
    "\n",
    "k=np.linspace(kmin,kmax,N)\n",
    "deltak=k[1]-k[0]\n",
    "n0=np.linspace(0, N-1, N)       # pixel axis\n",
    "z=np.linspace(-0.5*np.pi/deltak, 0.5*np.pi/deltak, N)\n",
    "deltaz=z[2]-z[1]"
   ]
  },
  {
   "cell_type": "code",
   "execution_count": 17,
   "metadata": {},
   "outputs": [
    {
     "data": {
      "application/vnd.jupyter.widget-view+json": {
       "model_id": "5e11aa8d113b4864aeac01645ec744bf",
       "version_major": 2,
       "version_minor": 0
      },
      "text/plain": [
       "interactive(children=(FloatSlider(value=2.0, description='P0', max=5.0), IntSlider(value=200, description='dla…"
      ]
     },
     "metadata": {},
     "output_type": "display_data"
    }
   ],
   "source": [
    "from mpl_toolkits.axes_grid1.inset_locator import inset_axes\n",
    "import scipy.interpolate\n",
    "\n",
    "def makeplot(P0, dlambda, zmir, chirp, dispersion):\n",
    "    # P0 in mW\n",
    "    # dlambda in nm\n",
    "    # zmir in mm \n",
    "\n",
    "    dk=1e9*dlambda*2*np.pi/lambdac**2\n",
    "    sigmak = dk/(2*np.sqrt(2*np.log(2))) \n",
    "\n",
    "    # # here a non-linear chirp is created\n",
    "    chirp*=1e-7*chirp\n",
    "    kchirp=k[0]+(1-chirp*(N-1)*deltak)*n0*deltak+chirp*n0**2*deltak**2\n",
    "    \n",
    "    # here the dispersion is added to the signal\n",
    "    dispersion=1e-4*dispersion\n",
    "        \n",
    "    # Calculation of the OCT signal\n",
    "    Sks=(P0*1e-3)/(np.sqrt(2*np.pi*sigmak**2))*np.exp(-(k-kc)**2/(2*sigmak**2))\n",
    "\n",
    "    Ukref=np.sqrt(alpha*(1-alpha))*np.sqrt(Sks)\n",
    "    Uksam=np.sqrt(alpha*(1-alpha))*np.sqrt(Sks)*np.exp(1j*2*k*zmir*1e-3)*np.exp(1j*dispersion*(k-kc)**2/kc)\n",
    "    Uksamchirp=np.sqrt(alpha*(1-alpha))*np.sqrt(Sks)*np.exp(1j*2*kchirp*zmir*1e-3)\n",
    "    Ikint=np.real(Uksam+Ukref*np.conj(Uksam+Ukref))-np.real(Ukref*np.conj(Ukref))-np.real(Uksam*np.conj(Uksam))\n",
    "    Ikintchirp=np.real(Uksamchirp+Ukref*np.conj(Uksamchirp+Ukref))-np.real(Ukref*np.conj(Ukref))-np.real(Uksam*np.conj(Uksamchirp))\n",
    "    \n",
    "    fig, axes = plt.subplots(1,3)\n",
    "    plt.figure(fig).set_figwidth(15)\n",
    "    plt.subplot(131)\n",
    "    axes[0].plot(k, Ikint, '-.b', label='ideal OCT signal')\n",
    "    axes[0].plot(k, Ikintchirp, '-.r', label='chirped OCT signal')\n",
    "    plt.title('OCT spectrum')\n",
    "    plt.xlabel('Wavenumber (rad/m)')\n",
    "    plt.ylabel('Intensity (arb. units)')\n",
    "    plt.grid(), plt.legend(fontsize=\"6\")\n",
    "\n",
    "    plt.subplot(132)\n",
    "    plt.plot(k, k, '-b', label='lineak k')\n",
    "    plt.plot(k, kchirp, '-r', label='chirped k')\n",
    "    plt.title('OCT spectral phase')\n",
    "    plt.xlabel('Wavenumber (rad/m)')\n",
    "    plt.ylabel('Phase (rad)')\n",
    "    plt.grid(), plt.legend(fontsize=\"6\")\n",
    "\n",
    "    iz=np.fft.fftshift(np.fft.ifft(Ikint))\n",
    "    izchirp=np.fft.fftshift(np.fft.ifft(Ikintchirp))\n",
    "    #f = scipy.interpolate.interp1d(kchirp, Ikintchirp, kind='cubic')\n",
    "    ##klin=np.linspace(np.amin(kchirp), np.amax(kchirp), N)\n",
    "    #Ikintcorr = f(klin)\n",
    "    #izdechirp=np.fft.fftshift(np.fft.ifft(Ikintcorr))\n",
    "\n",
    "    plt.subplot(133) \n",
    "    axes[2].plot(1e3*z, np.abs(iz)**2, '-b', label='ideal OCT signal')\n",
    "    axes[2].plot(1e3*z, np.abs(izchirp)**2, '--r', label='chirped OCT signal')\n",
    "    plt.title('OCT scan')\n",
    "    plt.xlabel('Depth (mm)')\n",
    "    plt.ylabel('OCT intensity (arb. units)')\n",
    "    plt.grid(), plt.legend(fontsize=\"6\")\n",
    "\n",
    "    # switch between +z and -z\n",
    "    peakpos=int(1e-3*zmir/deltaz)+int(N/2)\n",
    "    zrange=10\n",
    "        \n",
    "    ins = inset_axes(axes[2], width=\"30%\", height=2.0, loc=1)\n",
    "    plt.plot(1e3*z[int(peakpos-zrange):int(peakpos+zrange)], np.abs(iz[int(peakpos-zrange):int(peakpos+zrange)])**2, '-b', label='ideal OCT signal')\n",
    "    plt.plot(1e3*z[int(peakpos-zrange):int(peakpos+zrange)], np.abs(izchirp[int(peakpos-zrange):int(peakpos+zrange)])**2, '--r', label='chirped OCT signal')\n",
    "    plt.grid()\n",
    "\n",
    "    plt.tight_layout()\n",
    "    plt.show()\n",
    "\n",
    "interactive(makeplot, P0=(0, 5, 0.1), dlambda=(0, 400,10), zmir=(1e3*np.min(z), 1e3*np.max(z), 0.1), chirp=(0,1,0.1), dispersion=(0,1,0.1))"
   ]
  },
  {
   "cell_type": "code",
   "execution_count": null,
   "metadata": {},
   "outputs": [],
   "source": []
  }
 ],
 "metadata": {
  "kernelspec": {
   "display_name": "base",
   "language": "python",
   "name": "python3"
  },
  "language_info": {
   "codemirror_mode": {
    "name": "ipython",
    "version": 3
   },
   "file_extension": ".py",
   "mimetype": "text/x-python",
   "name": "python",
   "nbconvert_exporter": "python",
   "pygments_lexer": "ipython3",
   "version": "3.10.9"
  }
 },
 "nbformat": 4,
 "nbformat_minor": 2
}
